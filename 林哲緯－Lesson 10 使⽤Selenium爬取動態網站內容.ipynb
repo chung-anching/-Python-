{
 "cells": [
  {
   "cell_type": "markdown",
   "metadata": {},
   "source": [
    "### 購物網站地址: https://webscraper.io/test-sites/e-commerce/more/computers/laptops\n",
    "### 課程網址: https://ctld.video.nccu.edu.tw/media/4581\n",
    "![rr](課程教學圖片/Lesson10_2/java2.jpg) "
   ]
  },
  {
   "cell_type": "code",
   "execution_count": 67,
   "metadata": {},
   "outputs": [],
   "source": [
    "from selenium import webdriver "
   ]
  },
  {
   "cell_type": "code",
   "execution_count": 68,
   "metadata": {
    "scrolled": true
   },
   "outputs": [
    {
     "data": {
      "text/plain": [
       "'https://webscraper.io/test-sites/e-commerce/more/computers/tablets'"
      ]
     },
     "execution_count": 68,
     "metadata": {},
     "output_type": "execute_result"
    }
   ],
   "source": [
    "from selenium import webdriver\n",
    "driver = webdriver.Chrome(\"C:\\Program Files\\Google\\Chrome\\Application\\chromedriver\")  #把剛剛下載的chromedriver檔案路徑放到這邊來(指定我們要育的chromedriver路徑是甚麼)\n",
    "#chrome跟機器人中間需要驅動的程式'C:/path/to/chromedriver.exe'\n",
    "\n",
    "driver.get(\"https://webscraper.io/test-sites/e-commerce/more/computers/tablets\")   #跟request.get很像，需要把要取得內容的網址(模擬電商)丟進來\n",
    "#取得網址的頁面結果\n",
    "\n",
    "driver.current_url #取得目前瀏覽器的URL\n",
    "# 會看到他幫你開起來的瀏覽器\n",
    "\n"
   ]
  },
  {
   "cell_type": "code",
   "execution_count": 69,
   "metadata": {},
   "outputs": [
    {
     "name": "stdout",
     "output_type": "stream",
     "text": [
      "0\n",
      "1\n",
      "2\n",
      "3\n"
     ]
    }
   ],
   "source": [
    "# 把頁面裡面的more全部按完\n",
    "import time\n",
    "\n",
    "for i in range(5):   #先用for迴圈跑一個固定的數量看看\n",
    "    \n",
    "    print(i) #到第幾次\n",
    "    try:\n",
    "        driver.find_element_by_css_selector(\"body > div.wrapper > div.container.test-site > div > div.col-md-9 > a\").click()  \n",
    "        # 選到more這個按鈕driver.find_element_by_css_selector()，並點擊他(加上.click())\n",
    "        # 要跟上一個cell分開放，不然會再重新開一個連結\n",
    "\n",
    "        time.sleep(0.3)    # more按鈕會有延遲，不會按完馬上出現下一個more，因此馬上按的話會重複按了同一個按鈕(網頁跟不上selenium的操作)\n",
    "        # 先猜睡0.1秒剛好\n",
    "        # 產生錯誤: i到後面找不到more按鈕的時候，會產生例外 => 用try\n",
    "    \n",
    "    except:\n",
    "        break"
   ]
  },
  {
   "cell_type": "code",
   "execution_count": 70,
   "metadata": {},
   "outputs": [],
   "source": [
    "#driver.quit()  #幫你把瀏覽器關掉"
   ]
  },
  {
   "cell_type": "markdown",
   "metadata": {},
   "source": [
    "### 讓selenium按下more的按鈕- 兩個步驟\n",
    "#### 1. 從html選到這個按鈕\n",
    "#### 2. 點下去(藉由這個按鈕的javascript 跑出後面的東西)\n"
   ]
  },
  {
   "cell_type": "markdown",
   "metadata": {},
   "source": [
    "![rr](課程教學圖片/Lesson10_2/more.jpg) \n",
    "#### \"body > div.wrapper > div.container.test-site > div > div.col-md-9 > a\" 從這邊來的(copy seletor)"
   ]
  },
  {
   "cell_type": "markdown",
   "metadata": {},
   "source": [
    "## selenium精簡版"
   ]
  },
  {
   "cell_type": "code",
   "execution_count": 86,
   "metadata": {},
   "outputs": [],
   "source": [
    "from selenium import webdriver"
   ]
  },
  {
   "cell_type": "code",
   "execution_count": 87,
   "metadata": {},
   "outputs": [
    {
     "data": {
      "text/plain": [
       "'https://webscraper.io/test-sites/e-commerce/more/computers/tablets'"
      ]
     },
     "execution_count": 87,
     "metadata": {},
     "output_type": "execute_result"
    }
   ],
   "source": [
    "from selenium import webdriver\n",
    "driver = webdriver.Chrome(\"C:\\Program Files\\Google\\Chrome\\Application\\chromedriver\") \n",
    "driver.get(\"https://webscraper.io/test-sites/e-commerce/more/computers/tablets\")  \n",
    "driver.current_url"
   ]
  },
  {
   "cell_type": "code",
   "execution_count": 88,
   "metadata": {},
   "outputs": [],
   "source": [
    "import time\n",
    "while True:  #已經可以用try去掉例外狀況了，不需要for迴圈\n",
    "    try:\n",
    "        driver.find_element_by_css_selector(\"body > div.wrapper > div.container.test-site > div > div.col-md-9 > a\").click()  \n",
    "        time.sleep(0.3)\n",
    "    except:\n",
    "        break"
   ]
  },
  {
   "cell_type": "code",
   "execution_count": 89,
   "metadata": {},
   "outputs": [],
   "source": [
    "#driver.quit()"
   ]
  },
  {
   "cell_type": "markdown",
   "metadata": {},
   "source": [
    "### 把selenium加上pyquery"
   ]
  },
  {
   "cell_type": "code",
   "execution_count": 90,
   "metadata": {},
   "outputs": [
    {
     "data": {
      "text/plain": [
       "'Lenovo IdeaTab IdeaTab A3500L Acer Iconia Galaxy Tab 3 Iconia B1-730HD Memo Pad HD 7 Asus MeMO Pad Amazon Kindle Galaxy Tab 3 IdeaTab A8-50 MeMO Pad 7 IdeaTab A3500-H IdeaTab S5000 Galaxy Tab 4 Galaxy Tab MeMo PAD FHD 10 Galaxy Note Galaxy Note iPad Mini Retina Galaxy Note 10.1 Apple iPad Air'"
      ]
     },
     "execution_count": 90,
     "metadata": {},
     "output_type": "execute_result"
    }
   ],
   "source": [
    "# 接上你的pyquery\n",
    "from pyquery import PyQuery as pq\n",
    "html = driver.find_element_by_css_selector(\"*\").get_attribute(\"outerHTML\")\n",
    "# driver.find_element_by_css_selector(\"*\"): 幫我們把這個網頁第一個被找到的元素(標籤)幫我把它選出來(通常是html這個標籤) \n",
    "# .get_attribute(\"outerHTML\"): 幫我們把這個標籤(html)裡的所有的元素全部選起來  (得到元素的屬性值\n",
    "\n",
    "doc = pq(html)  #複製html的outerHTML(就是所有的網頁內容了，是字串 )，把這些內容接上(丟到)pyquery，再存到doc  (把selenium的網頁內容傳給pyquery 的必經之路\n",
    "\n",
    "#取得網頁的商品名稱:\n",
    "doc(\".thumbnail .title\").text()"
   ]
  },
  {
   "cell_type": "code",
   "execution_count": 91,
   "metadata": {},
   "outputs": [],
   "source": [
    "driver.quit() "
   ]
  },
  {
   "cell_type": "markdown",
   "metadata": {},
   "source": [
    "### 複製html的outerHTML:\n",
    "![rr](課程教學圖片/Lesson10_2/outer.jpg) \n",
    "\n",
    "### 抓到商品的名稱:\n",
    "### .thumbnail .title從這邊來\n",
    "![rr](課程教學圖片/Lesson10_2/thumb.jpg) "
   ]
  },
  {
   "cell_type": "code",
   "execution_count": null,
   "metadata": {},
   "outputs": [],
   "source": []
  },
  {
   "cell_type": "code",
   "execution_count": null,
   "metadata": {},
   "outputs": [],
   "source": []
  }
 ],
 "metadata": {
  "kernelspec": {
   "display_name": "Python 3",
   "language": "python",
   "name": "python3"
  },
  "language_info": {
   "codemirror_mode": {
    "name": "ipython",
    "version": 3
   },
   "file_extension": ".py",
   "mimetype": "text/x-python",
   "name": "python",
   "nbconvert_exporter": "python",
   "pygments_lexer": "ipython3",
   "version": "3.8.5"
  }
 },
 "nbformat": 4,
 "nbformat_minor": 4
}
